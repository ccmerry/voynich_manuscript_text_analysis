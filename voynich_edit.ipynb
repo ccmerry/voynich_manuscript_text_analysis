{
 "cells": [
  {
   "cell_type": "code",
   "execution_count": 1,
   "id": "34bdc582",
   "metadata": {},
   "outputs": [],
   "source": [
    "from collections import defaultdict\n",
    "import random\n",
    "\n",
    "from tqdm.notebook import tqdm\n",
    "\n",
    "import pandas as pd\n",
    "from collections import Counter\n",
    "\n",
    "from scipy import sparse\n",
    "from scipy.sparse.linalg import svds\n",
    "import numpy as np\n",
    "\n",
    "from sklearn.metrics.pairwise import cosine_similarity\n",
    "\n",
    "from nltk.tokenize import sent_tokenize, word_tokenize, regexp_tokenize\n",
    "\n",
    "import glob\n",
    "import re\n",
    "import matplotlib.pyplot as plt\n",
    "\n",
    "import math"
   ]
  },
  {
   "cell_type": "code",
   "execution_count": 2,
   "id": "abc95cf8",
   "metadata": {},
   "outputs": [],
   "source": [
    "def full_book_dictionary(book_folder_name):\n",
    "    glob_name = book_folder_name + '/*'\n",
    "    books_in_folder = glob.glob(glob_name)\n",
    "    book_path = book_folder_name + '\\\\'\n",
    "    \n",
    "    dict_name = {}\n",
    "    all_book = \"\"\n",
    "    book_name_start = len(book_path)\n",
    "    \n",
    "    for b in books_in_folder:\n",
    "        book = b[book_name_start:]\n",
    "        with open(book_path+book,encoding=\"utf8\") as fi:\n",
    "            book_r = fi.read()\n",
    "        c_book = book_r.replace('\\n', ' ')\n",
    "        book_name = book[:-4]\n",
    "        dict_name[book_name] = c_book\n",
    "    return dict_name"
   ]
  },
  {
   "cell_type": "code",
   "execution_count": 3,
   "id": "31ef0452",
   "metadata": {},
   "outputs": [],
   "source": [
    "def full_common_df(max_word_count, book_dictionary):\n",
    "    column_name_list = list((range(1, max_word_count + 1)))\n",
    "    \n",
    "    log_name_list = []\n",
    "    for r in column_name_list:\n",
    "        log_name_list.append(math.log(r))\n",
    "        \n",
    "    cmn_word_df = pd.DataFrame(columns=column_name_list)\n",
    "    cmn_word_df.loc[0,:] = log_name_list\n",
    "    \n",
    "    count = 0\n",
    "    book_index = []\n",
    "    for b in book_dictionary:\n",
    "        word_rank = 0 \n",
    "        false_word = ['s','t','n','5','10','15','20']\n",
    "        ind = []\n",
    "        fre = []\n",
    "        fretwo = []\n",
    "        run = 1\n",
    "        book_token_words = [x.lower() for x in regexp_tokenize(book_dictionary[b], '\\w+')]\n",
    "        if len(book_token_words) > 0:\n",
    "            book_index.append(b)\n",
    "            book_token_counter = Counter(book_token_words).most_common(max_word_count+20)\n",
    "            max_fre = 0\n",
    "            for item in book_token_counter:\n",
    "                if item[0] not in false_word:\n",
    "                    if word_rank < max_word_count:\n",
    "                        ind.append(item[0])\n",
    "                        fre.append(item[1])\n",
    "                        fretwo.append(math.log(item[1]))\n",
    "                        if (item[1]*run) > max_fre:\n",
    "                            max_fre = item[1]*run\n",
    "                        run = run + 1\n",
    "                        word_rank = word_rank + 1\n",
    "            cmn_word_df.loc[count+1,:] = fretwo\n",
    "            count = count + 1\n",
    "            print(b)\n",
    "            print(book_token_counter)\n",
    "    return(cmn_word_df)"
   ]
  },
  {
   "cell_type": "code",
   "execution_count": 4,
   "id": "a53f88da",
   "metadata": {},
   "outputs": [],
   "source": [
    "def pfit_slope(fit_df):\n",
    "    form_fit_df = fit_df.apply(pd.to_numeric)\n",
    "    count = 0\n",
    "    for row in fit_df.iterrows():\n",
    "        if count != 0:\n",
    "            theta = np.polyfit(form_fit_df.loc[0,:], form_fit_df.loc[count,:], 1)\n",
    "            print(\"{} slope\".format(theta[0]))\n",
    "        count = count + 1"
   ]
  },
  {
   "cell_type": "code",
   "execution_count": null,
   "id": "b8e9d863",
   "metadata": {},
   "outputs": [],
   "source": [
    "manuscript_book_d = full_book_dictionary('manuscript_text')\n",
    "manuscript_df = full_common_df(200, manuscript_book_d)\n",
    "pfit_slope(manuscript_df)\n",
    "manuscript_df.head()"
   ]
  },
  {
   "cell_type": "code",
   "execution_count": null,
   "id": "0996ea0f",
   "metadata": {},
   "outputs": [],
   "source": [
    "book_folder_name = 'manuscript_text'\n",
    "glob_name = book_folder_name + '/*'\n",
    "books_in_folder = glob.glob(glob_name)\n",
    "book_path = book_folder_name + '\\\\'\n",
    "\n",
    "dict_name = {}\n",
    "all_book = \"\"\n",
    "book_name_start = len(book_path)\n",
    "\n",
    "for b in books_in_folder:\n",
    "    book = b[book_name_start:]\n",
    "    with open(book_path+book,encoding=\"utf8\") as fi:\n",
    "        book_r = fi.read()\n",
    "    c_book = book_r.replace(r'\\#[^\\n]*\\n', '')\n",
    "    book_name = book[:-4]\n",
    "    dict_name[book_name] = c_book"
   ]
  },
  {
   "cell_type": "code",
   "execution_count": null,
   "id": "9c65258a",
   "metadata": {},
   "outputs": [],
   "source": []
  },
  {
   "cell_type": "code",
   "execution_count": null,
   "id": "48872a20",
   "metadata": {},
   "outputs": [],
   "source": []
  },
  {
   "cell_type": "code",
   "execution_count": null,
   "id": "cf8b1584",
   "metadata": {},
   "outputs": [],
   "source": []
  }
 ],
 "metadata": {
  "kernelspec": {
   "display_name": "Python 3 (ipykernel)",
   "language": "python",
   "name": "python3"
  },
  "language_info": {
   "codemirror_mode": {
    "name": "ipython",
    "version": 3
   },
   "file_extension": ".py",
   "mimetype": "text/x-python",
   "name": "python",
   "nbconvert_exporter": "python",
   "pygments_lexer": "ipython3",
   "version": "3.8.13"
  }
 },
 "nbformat": 4,
 "nbformat_minor": 5
}
