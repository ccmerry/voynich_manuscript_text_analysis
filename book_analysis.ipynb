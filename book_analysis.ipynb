{
 "cells": [
  {
   "cell_type": "code",
   "execution_count": 2,
   "id": "9f949409",
   "metadata": {},
   "outputs": [],
   "source": [
    "from collections import defaultdict\n",
    "import random\n",
    "\n",
    "from tqdm.notebook import tqdm\n",
    "\n",
    "import pandas as pd\n",
    "from collections import Counter\n",
    "\n",
    "from scipy import sparse\n",
    "from scipy.sparse.linalg import svds\n",
    "import numpy as np\n",
    "\n",
    "from sklearn.metrics.pairwise import cosine_similarity\n",
    "\n",
    "from nltk.tokenize import sent_tokenize, word_tokenize, regexp_tokenize\n",
    "\n",
    "import glob\n",
    "import re\n",
    "import matplotlib.pyplot as plt"
   ]
  },
  {
   "cell_type": "code",
   "execution_count": 3,
   "id": "4e9cc00b",
   "metadata": {},
   "outputs": [
    {
     "name": "stdout",
     "output_type": "stream",
     "text": [
      "['english_books\\\\A Christmas Carol in Prose; Being a Ghost Story of Christmas by Charles Dickens.txt', 'english_books\\\\A Modest Proposal by Jonathan Swift.txt', 'english_books\\\\A Tale of Two Cities by Charles Dickens.txt', 'english_books\\\\Adventures of Huckleberry Finn by Mark Twain.txt', 'english_books\\\\Anna Karenina by graf Leo Tolstoy.txt', 'english_books\\\\Anne of Green Gables by L. M.  Montgomery.txt', 'english_books\\\\Anthem by Ayn Rand.txt', 'english_books\\\\Crime and Punishment by Fyodor Dostoyevsky.txt', 'english_books\\\\Don Quixote by Miguel de Cervantes Saavedra.txt', 'english_books\\\\Dracula by Bram Stoker.txt', 'english_books\\\\Dubliners by James Joyce.txt', 'english_books\\\\Emma by Jane Austen.txt', 'english_books\\\\Frankenstein; Or, The Modern Prometheus by Mary Wollstonecraft Shelley.txt', 'english_books\\\\Great Expectations by Charles Dickens.txt', 'english_books\\\\Heart of Darkness by Joseph Conrad.txt', 'english_books\\\\Jane Eyre_ An Autobiography by Charlotte Brontë.txt', 'english_books\\\\Japanese Girls and Women by Alice Mabel Bacon.txt', 'english_books\\\\Les Misérables by Victor Hugo.txt', 'english_books\\\\Leviathan by Thomas Hobbes.txt', 'english_books\\\\Little Women by Louisa May Alcott.txt', 'english_books\\\\Metamorphosis by Franz Kafka.txt', 'english_books\\\\Moby Dick; Or, The Whale by Herman Melville.txt', 'english_books\\\\Narrative of the Life of Frederick Douglass, an American Slave by Frederick Douglass.txt', 'english_books\\\\Oliver Twist by Charles Dickens.txt', 'english_books\\\\Peter Pan by J. M.  Barrie.txt', 'english_books\\\\Pride and Prejudice by Jane Austen.txt', 'english_books\\\\Pygmalion by Bernard Shaw.txt', 'english_books\\\\Second Treatise of Government by John Locke.txt', 'english_books\\\\The Adventures of Sherlock Holmes by Arthur Conan Doyle.txt', 'english_books\\\\The Adventures of Tom Sawyer, Complete by Mark Twain.txt', 'english_books\\\\The Awakening, and Selected Short Stories by Kate Chopin.txt', 'english_books\\\\The Brothers Karamazov by Fyodor Dostoyevsky.txt', 'english_books\\\\The Call of the Wild by Jack London.txt', 'english_books\\\\The Count of Monte Cristo, Illustrated by Alexandre Dumas.txt', 'english_books\\\\The Great Gatsby by F. Scott  Fitzgerald.txt', 'english_books\\\\The Hound of the Baskervilles by Arthur Conan Doyle.txt', 'english_books\\\\The Iliad by Homer.txt', 'english_books\\\\The Importance of Being Earnest_ A Trivial Comedy for Serious People by Oscar Wilde.txt', 'english_books\\\\The Odyssey by Homer.txt', 'english_books\\\\The Picture of Dorian Gray by Oscar Wilde.txt', 'english_books\\\\The Prince by Niccolò Machiavelli.txt', 'english_books\\\\The Prophet by Kahlil Gibran.txt', 'english_books\\\\The Republic by Plato.txt', 'english_books\\\\The Scarlet Letter by Nathaniel Hawthorne.txt', 'english_books\\\\The Souls of Black Folk by W. E. B.  Du Bois.txt', 'english_books\\\\The Strange Case of Dr. Jekyll and Mr. Hyde by Robert Louis Stevenson.txt', 'english_books\\\\The Time Machine by H. G.  Wells.txt', 'english_books\\\\The War of the Worlds by H. G.  Wells.txt', 'english_books\\\\The Wonderful Wizard of Oz by L. Frank  Baum.txt', 'english_books\\\\The Yellow Wallpaper by Charlotte Perkins Gilman.txt', 'english_books\\\\Treasure Island by Robert Louis Stevenson.txt', 'english_books\\\\Ulysses by James Joyce.txt', 'english_books\\\\Walden, and On The Duty Of Civil Disobedience by Henry David Thoreau.txt', 'english_books\\\\War and Peace by graf Leo Tolstoy.txt', 'english_books\\\\Wuthering Heights by Emily Brontë.txt']\n"
     ]
    }
   ],
   "source": [
    "books = glob.glob('english_books/*')\n",
    "print(books)"
   ]
  },
  {
   "cell_type": "code",
   "execution_count": 4,
   "id": "b9f2502a",
   "metadata": {},
   "outputs": [
    {
     "name": "stdout",
     "output_type": "stream",
     "text": [
      "A Christmas Carol in Prose; Being a Ghost Story of Christmas by Charles Dickens.txt\n",
      "A Modest Proposal by Jonathan Swift.txt\n",
      "A Tale of Two Cities by Charles Dickens.txt\n",
      "Adventures of Huckleberry Finn by Mark Twain.txt\n",
      "Anna Karenina by graf Leo Tolstoy.txt\n",
      "Anne of Green Gables by L. M.  Montgomery.txt\n",
      "Anthem by Ayn Rand.txt\n",
      "Crime and Punishment by Fyodor Dostoyevsky.txt\n",
      "Don Quixote by Miguel de Cervantes Saavedra.txt\n",
      "Dracula by Bram Stoker.txt\n",
      "Dubliners by James Joyce.txt\n",
      "Emma by Jane Austen.txt\n",
      "Frankenstein; Or, The Modern Prometheus by Mary Wollstonecraft Shelley.txt\n",
      "Great Expectations by Charles Dickens.txt\n",
      "Heart of Darkness by Joseph Conrad.txt\n",
      "Jane Eyre_ An Autobiography by Charlotte Brontë.txt\n",
      "Japanese Girls and Women by Alice Mabel Bacon.txt\n",
      "Les Misérables by Victor Hugo.txt\n",
      "Leviathan by Thomas Hobbes.txt\n",
      "Little Women by Louisa May Alcott.txt\n",
      "Metamorphosis by Franz Kafka.txt\n",
      "Moby Dick; Or, The Whale by Herman Melville.txt\n",
      "Narrative of the Life of Frederick Douglass, an American Slave by Frederick Douglass.txt\n",
      "Oliver Twist by Charles Dickens.txt\n",
      "Peter Pan by J. M.  Barrie.txt\n",
      "Pride and Prejudice by Jane Austen.txt\n",
      "Pygmalion by Bernard Shaw.txt\n",
      "Second Treatise of Government by John Locke.txt\n",
      "The Adventures of Sherlock Holmes by Arthur Conan Doyle.txt\n",
      "The Adventures of Tom Sawyer, Complete by Mark Twain.txt\n",
      "The Awakening, and Selected Short Stories by Kate Chopin.txt\n",
      "The Brothers Karamazov by Fyodor Dostoyevsky.txt\n",
      "The Call of the Wild by Jack London.txt\n",
      "The Count of Monte Cristo, Illustrated by Alexandre Dumas.txt\n",
      "The Great Gatsby by F. Scott  Fitzgerald.txt\n",
      "The Hound of the Baskervilles by Arthur Conan Doyle.txt\n",
      "The Iliad by Homer.txt\n",
      "The Importance of Being Earnest_ A Trivial Comedy for Serious People by Oscar Wilde.txt\n",
      "The Odyssey by Homer.txt\n",
      "The Picture of Dorian Gray by Oscar Wilde.txt\n",
      "The Prince by Niccolò Machiavelli.txt\n",
      "The Prophet by Kahlil Gibran.txt\n",
      "The Republic by Plato.txt\n",
      "The Scarlet Letter by Nathaniel Hawthorne.txt\n",
      "The Souls of Black Folk by W. E. B.  Du Bois.txt\n",
      "The Strange Case of Dr. Jekyll and Mr. Hyde by Robert Louis Stevenson.txt\n",
      "The Time Machine by H. G.  Wells.txt\n",
      "The War of the Worlds by H. G.  Wells.txt\n",
      "The Wonderful Wizard of Oz by L. Frank  Baum.txt\n",
      "The Yellow Wallpaper by Charlotte Perkins Gilman.txt\n",
      "Treasure Island by Robert Louis Stevenson.txt\n",
      "Ulysses by James Joyce.txt\n",
      "Walden, and On The Duty Of Civil Disobedience by Henry David Thoreau.txt\n",
      "War and Peace by graf Leo Tolstoy.txt\n",
      "Wuthering Heights by Emily Brontë.txt\n"
     ]
    }
   ],
   "source": [
    "all_book = \"\"\n",
    "for b in books:\n",
    "    book = b[14:]\n",
    "    if book != \"The_Scarlet_Letter_by_Nathaniel_Hawthorne.txt\":\n",
    "    #if book == \"The_Adventures_of_Sherlock_Holmes_by_Arthur_Conan_Doyle.txt\" or book == \"The_Scarlet_Letter_by_Nathaniel_Hawthorne.txt\":    \n",
    "        print(book)\n",
    "        with open('english_books\\\\'+book,encoding=\"utf8\") as fi:\n",
    "            book_r = fi.read()\n",
    "        start_b = re.search(r\"\\*\\*\\*[\\w|\\s]+[\\;|\\w]+[\\w|\\s]+\\*\\*\\*\",book_r)\n",
    "        #print(start_b)\n",
    "        end = start_b.end()\n",
    "        #print(book_r)\n",
    "        try_book = book_r[end:]\n",
    "        end_b = re.search(r\"\\*\\*\\*[\\w|\\s]+[\\;|\\w]+[\\w|\\s]+\\*\\*\\*\",try_book)\n",
    "        cut_off = end_b.start()\n",
    "        complete_b = try_book[:cut_off]\n",
    "        all_book = all_book + complete_b"
   ]
  },
  {
   "cell_type": "code",
   "execution_count": 5,
   "id": "b1eacd7c",
   "metadata": {},
   "outputs": [],
   "source": [
    "book_r_words = [x.lower() for x in regexp_tokenize(all_book, '\\w+')]\n",
    "book_r_counter = Counter(book_r_words).most_common(25)"
   ]
  },
  {
   "cell_type": "code",
   "execution_count": 6,
   "id": "d18d7c87",
   "metadata": {},
   "outputs": [
    {
     "name": "stdout",
     "output_type": "stream",
     "text": [
      "[('the', 394701), ('and', 251180), ('of', 200453), ('to', 193529), ('a', 145177), ('i', 118866), ('in', 115758), ('he', 102809), ('that', 97177), ('it', 87001), ('was', 80659), ('his', 76135), ('you', 69208), ('with', 59688), ('for', 56137), ('is', 54939), ('as', 54727), ('not', 51171), ('had', 50623), ('her', 48714), ('but', 47999), ('at', 44906), ('s', 42300), ('him', 41997), ('on', 41988)]\n"
     ]
    }
   ],
   "source": [
    "print(book_r_counter)"
   ]
  },
  {
   "cell_type": "code",
   "execution_count": 7,
   "id": "bf2fe32d",
   "metadata": {},
   "outputs": [],
   "source": [
    "for item in book_r_counter:\n",
    "    top_count = item[1]\n",
    "    break"
   ]
  },
  {
   "cell_type": "code",
   "execution_count": 8,
   "id": "a7246d48",
   "metadata": {},
   "outputs": [
    {
     "data": {
      "image/png": "[encoded data removed]",
      "text/plain": [
       "<Figure size 1152x288 with 1 Axes>"
      ]
     },
     "metadata": {
      "needs_background": "light"
     },
     "output_type": "display_data"
    }
   ],
   "source": [
    "plt.rcParams[\"figure.figsize\"] = [16, 4]\n",
    "ind = []\n",
    "fre = []\n",
    "fretwo = []\n",
    "run = 1\n",
    "for item in book_r_counter:\n",
    "    ind.append(item[0])\n",
    "    fre.append(item[1])\n",
    "    fretwo.append(top_count/run)\n",
    "    run = run + 1\n",
    "\n",
    "plt.bar(ind, fre, alpha = 1)\n",
    "plt.bar(ind, fretwo, alpha =  .75)\n",
    "\n",
    "plt.show()"
   ]
  },
  {
   "cell_type": "code",
   "execution_count": 151,
   "id": "731bb330",
   "metadata": {},
   "outputs": [
    {
     "ename": "NameError",
     "evalue": "name 'words' is not defined",
     "output_type": "error",
     "traceback": [
      "\u001b[1;31m---------------------------------------------------------------------------\u001b[0m",
      "\u001b[1;31mNameError\u001b[0m                                 Traceback (most recent call last)",
      "\u001b[1;32m~\\AppData\\Local\\Temp\\ipykernel_10596\\584794309.py\u001b[0m in \u001b[0;36m<module>\u001b[1;34m\u001b[0m\n\u001b[0;32m      1\u001b[0m \u001b[1;31m#words = Counter(book_r_counter.read().split()).most_common(10)\u001b[0m\u001b[1;33m\u001b[0m\u001b[1;33m\u001b[0m\u001b[1;33m\u001b[0m\u001b[0m\n\u001b[1;32m----> 2\u001b[1;33m \u001b[0mprint\u001b[0m\u001b[1;33m(\u001b[0m\u001b[0mwords\u001b[0m\u001b[1;33m)\u001b[0m\u001b[1;33m\u001b[0m\u001b[1;33m\u001b[0m\u001b[0m\n\u001b[0m",
      "\u001b[1;31mNameError\u001b[0m: name 'words' is not defined"
     ]
    }
   ],
   "source": [
    "#words = Counter(book_r_counter.read().split()).most_common(10)\n",
    "print(words)"
   ]
  },
  {
   "cell_type": "code",
   "execution_count": 150,
   "id": "9dabf653",
   "metadata": {},
   "outputs": [
    {
     "name": "stdout",
     "output_type": "stream",
     "text": [
      "[394701, 251180, 200453, 193529, 145177, 118866, 115758, 102809, 97177, 87001, 80659, 76135, 69208, 59688, 56137, 54939, 54727, 51171, 50623, 48714, 47999, 44906, 42300, 41997, 41988, 41307, 39169, 35562, 34712, 34314, 32147, 32146, 31310, 30215, 30048, 29939, 29148, 28542, 25697, 25056, 24421, 24362, 23358, 23094, 22976, 20987, 20902, 20570, 20510, 19886]\n"
     ]
    }
   ],
   "source": [
    "print(fre)"
   ]
  },
  {
   "cell_type": "code",
   "execution_count": 152,
   "id": "710ca8c5",
   "metadata": {},
   "outputs": [
    {
     "name": "stdout",
     "output_type": "stream",
     "text": [
      "[('the', 394701), ('and', 251180), ('of', 200453), ('to', 193529), ('a', 145177), ('i', 118866), ('in', 115758), ('he', 102809), ('that', 97177), ('it', 87001), ('was', 80659), ('his', 76135), ('you', 69208), ('with', 59688), ('for', 56137), ('is', 54939), ('as', 54727), ('not', 51171), ('had', 50623), ('her', 48714), ('but', 47999), ('at', 44906), ('s', 42300), ('him', 41997), ('on', 41988), ('be', 41307), ('she', 39169), ('have', 35562), ('all', 34712), ('my', 34314), ('by', 32147), ('me', 32146), ('they', 31310), ('said', 30215), ('this', 30048), ('which', 29939), ('so', 29148), ('from', 28542), ('one', 25697), ('what', 25056), ('there', 24421), ('or', 24362), ('were', 23358), ('are', 23094), ('no', 22976), ('we', 20987), ('if', 20902), ('when', 20570), ('them', 20510), ('who', 19886)]\n"
     ]
    }
   ],
   "source": [
    "print(book_r_counter)"
   ]
  },
  {
   "cell_type": "code",
   "execution_count": 153,
   "id": "e4e0ba6e",
   "metadata": {},
   "outputs": [
    {
     "name": "stdout",
     "output_type": "stream",
     "text": [
      "('the', 394701)\n",
      "('and', 251180)\n",
      "('of', 200453)\n",
      "('to', 193529)\n",
      "('a', 145177)\n",
      "('i', 118866)\n",
      "('in', 115758)\n",
      "('he', 102809)\n",
      "('that', 97177)\n",
      "('it', 87001)\n",
      "('was', 80659)\n",
      "('his', 76135)\n",
      "('you', 69208)\n",
      "('with', 59688)\n",
      "('for', 56137)\n",
      "('is', 54939)\n",
      "('as', 54727)\n",
      "('not', 51171)\n",
      "('had', 50623)\n",
      "('her', 48714)\n",
      "('but', 47999)\n",
      "('at', 44906)\n",
      "('s', 42300)\n",
      "('him', 41997)\n",
      "('on', 41988)\n",
      "('be', 41307)\n",
      "('she', 39169)\n",
      "('have', 35562)\n",
      "('all', 34712)\n",
      "('my', 34314)\n",
      "('by', 32147)\n",
      "('me', 32146)\n",
      "('they', 31310)\n",
      "('said', 30215)\n",
      "('this', 30048)\n",
      "('which', 29939)\n",
      "('so', 29148)\n",
      "('from', 28542)\n",
      "('one', 25697)\n",
      "('what', 25056)\n",
      "('there', 24421)\n",
      "('or', 24362)\n",
      "('were', 23358)\n",
      "('are', 23094)\n",
      "('no', 22976)\n",
      "('we', 20987)\n",
      "('if', 20902)\n",
      "('when', 20570)\n",
      "('them', 20510)\n",
      "('who', 19886)\n"
     ]
    }
   ],
   "source": [
    "for x in book_r_counter:\n",
    "    print(x)"
   ]
  },
  {
   "cell_type": "code",
   "execution_count": null,
   "id": "96484c7b",
   "metadata": {},
   "outputs": [],
   "source": [
    "book_r_counter['the']"
   ]
  }
 ],
 "metadata": {
  "kernelspec": {
   "display_name": "Python 3 (ipykernel)",
   "language": "python",
   "name": "python3"
  },
  "language_info": {
   "codemirror_mode": {
    "name": "ipython",
    "version": 3
   },
   "file_extension": ".py",
   "mimetype": "text/x-python",
   "name": "python",
   "nbconvert_exporter": "python",
   "pygments_lexer": "ipython3",
   "version": "3.8.13"
  }
 },
 "nbformat": 4,
 "nbformat_minor": 5
}
